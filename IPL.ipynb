{
 "cells": [
  {
   "cell_type": "code",
   "execution_count": 5,
   "metadata": {},
   "outputs": [],
   "source": [
    "import pandas as pd"
   ]
  },
  {
   "cell_type": "code",
   "execution_count": 7,
   "metadata": {},
   "outputs": [
    {
     "data": {
      "text/plain": [
       "<bound method NDFrame.head of       id  season           city        date                        team1  \\\n",
       "0      1    2017      Hyderabad  2017-04-05          Sunrisers Hyderabad   \n",
       "1      2    2017           Pune  2017-04-06               Mumbai Indians   \n",
       "2      3    2017         Rajkot  2017-04-07                Gujarat Lions   \n",
       "3      4    2017         Indore  2017-04-08       Rising Pune Supergiant   \n",
       "4      5    2017      Bangalore  2017-04-08  Royal Challengers Bangalore   \n",
       "5      6    2017      Hyderabad  2017-04-09                Gujarat Lions   \n",
       "6      7    2017         Mumbai  2017-04-09        Kolkata Knight Riders   \n",
       "7      8    2017         Indore  2017-04-10  Royal Challengers Bangalore   \n",
       "8      9    2017           Pune  2017-04-11             Delhi Daredevils   \n",
       "9     10    2017         Mumbai  2017-04-12          Sunrisers Hyderabad   \n",
       "10    11    2017        Kolkata  2017-04-13              Kings XI Punjab   \n",
       "11    12    2017      Bangalore  2017-04-14  Royal Challengers Bangalore   \n",
       "12    13    2017         Rajkot  2017-04-14       Rising Pune Supergiant   \n",
       "13    14    2017        Kolkata  2017-04-15        Kolkata Knight Riders   \n",
       "14    15    2017          Delhi  2017-04-15             Delhi Daredevils   \n",
       "15    16    2017         Mumbai  2017-04-16                Gujarat Lions   \n",
       "16    17    2017      Bangalore  2017-04-16       Rising Pune Supergiant   \n",
       "17    18    2017          Delhi  2017-04-17             Delhi Daredevils   \n",
       "18    19    2017      Hyderabad  2017-04-17          Sunrisers Hyderabad   \n",
       "19    20    2017         Rajkot  2017-04-18  Royal Challengers Bangalore   \n",
       "20    21    2017      Hyderabad  2017-04-19          Sunrisers Hyderabad   \n",
       "21    22    2017         Indore  2017-04-20              Kings XI Punjab   \n",
       "22    23    2017        Kolkata  2017-04-21        Kolkata Knight Riders   \n",
       "23    24    2017         Mumbai  2017-04-22               Mumbai Indians   \n",
       "24    25    2017           Pune  2017-04-22          Sunrisers Hyderabad   \n",
       "25    26    2017         Rajkot  2017-04-23              Kings XI Punjab   \n",
       "26    27    2017        Kolkata  2017-04-23        Kolkata Knight Riders   \n",
       "27    28    2017         Mumbai  2017-04-24       Rising Pune Supergiant   \n",
       "28    29    2017           Pune  2017-04-26       Rising Pune Supergiant   \n",
       "29    30    2017      Bangalore  2017-04-27  Royal Challengers Bangalore   \n",
       "..   ...     ...            ...         ...                          ...   \n",
       "606  607    2016         Rajkot  2016-05-03                Gujarat Lions   \n",
       "607  608    2016        Kolkata  2016-05-04        Kolkata Knight Riders   \n",
       "608  609    2016          Delhi  2016-05-05             Delhi Daredevils   \n",
       "609  610    2016      Hyderabad  2016-05-06                Gujarat Lions   \n",
       "610  611    2016      Bangalore  2016-05-07      Rising Pune Supergiants   \n",
       "611  612    2016     Chandigarh  2016-05-07              Kings XI Punjab   \n",
       "612  613    2016  Visakhapatnam  2016-05-08          Sunrisers Hyderabad   \n",
       "613  614    2016        Kolkata  2016-05-08        Kolkata Knight Riders   \n",
       "614  615    2016     Chandigarh  2016-05-09  Royal Challengers Bangalore   \n",
       "615  616    2016  Visakhapatnam  2016-05-10          Sunrisers Hyderabad   \n",
       "616  617    2016      Bangalore  2016-05-11  Royal Challengers Bangalore   \n",
       "617  618    2016      Hyderabad  2016-05-12          Sunrisers Hyderabad   \n",
       "618  619    2016  Visakhapatnam  2016-05-13               Mumbai Indians   \n",
       "619  620    2016      Bangalore  2016-05-14  Royal Challengers Bangalore   \n",
       "620  621    2016        Kolkata  2016-05-14      Rising Pune Supergiants   \n",
       "621  622    2016     Chandigarh  2016-05-15              Kings XI Punjab   \n",
       "622  623    2016  Visakhapatnam  2016-05-15               Mumbai Indians   \n",
       "623  624    2016        Kolkata  2016-05-16        Kolkata Knight Riders   \n",
       "624  625    2016  Visakhapatnam  2016-05-17             Delhi Daredevils   \n",
       "625  626    2016      Bangalore  2016-05-18  Royal Challengers Bangalore   \n",
       "626  627    2016         Kanpur  2016-05-19        Kolkata Knight Riders   \n",
       "627  628    2016         Raipur  2016-05-20          Sunrisers Hyderabad   \n",
       "628  629    2016  Visakhapatnam  2016-05-21              Kings XI Punjab   \n",
       "629  630    2016         Kanpur  2016-05-21               Mumbai Indians   \n",
       "630  631    2016        Kolkata  2016-05-22        Kolkata Knight Riders   \n",
       "631  632    2016         Raipur  2016-05-22             Delhi Daredevils   \n",
       "632  633    2016      Bangalore  2016-05-24                Gujarat Lions   \n",
       "633  634    2016          Delhi  2016-05-25          Sunrisers Hyderabad   \n",
       "634  635    2016          Delhi  2016-05-27                Gujarat Lions   \n",
       "635  636    2016      Bangalore  2016-05-29          Sunrisers Hyderabad   \n",
       "\n",
       "                           team2                  toss_winner toss_decision  \\\n",
       "0    Royal Challengers Bangalore  Royal Challengers Bangalore         field   \n",
       "1         Rising Pune Supergiant       Rising Pune Supergiant         field   \n",
       "2          Kolkata Knight Riders        Kolkata Knight Riders         field   \n",
       "3                Kings XI Punjab              Kings XI Punjab         field   \n",
       "4               Delhi Daredevils  Royal Challengers Bangalore           bat   \n",
       "5            Sunrisers Hyderabad          Sunrisers Hyderabad         field   \n",
       "6                 Mumbai Indians               Mumbai Indians         field   \n",
       "7                Kings XI Punjab  Royal Challengers Bangalore           bat   \n",
       "8         Rising Pune Supergiant       Rising Pune Supergiant         field   \n",
       "9                 Mumbai Indians               Mumbai Indians         field   \n",
       "10         Kolkata Knight Riders        Kolkata Knight Riders         field   \n",
       "11                Mumbai Indians               Mumbai Indians         field   \n",
       "12                 Gujarat Lions                Gujarat Lions         field   \n",
       "13           Sunrisers Hyderabad          Sunrisers Hyderabad         field   \n",
       "14               Kings XI Punjab             Delhi Daredevils           bat   \n",
       "15                Mumbai Indians               Mumbai Indians         field   \n",
       "16   Royal Challengers Bangalore  Royal Challengers Bangalore         field   \n",
       "17         Kolkata Knight Riders             Delhi Daredevils           bat   \n",
       "18               Kings XI Punjab              Kings XI Punjab         field   \n",
       "19                 Gujarat Lions                Gujarat Lions         field   \n",
       "20              Delhi Daredevils          Sunrisers Hyderabad           bat   \n",
       "21                Mumbai Indians               Mumbai Indians         field   \n",
       "22                 Gujarat Lions                Gujarat Lions         field   \n",
       "23              Delhi Daredevils             Delhi Daredevils         field   \n",
       "24        Rising Pune Supergiant       Rising Pune Supergiant         field   \n",
       "25                 Gujarat Lions                Gujarat Lions         field   \n",
       "26   Royal Challengers Bangalore  Royal Challengers Bangalore         field   \n",
       "27                Mumbai Indians               Mumbai Indians         field   \n",
       "28         Kolkata Knight Riders        Kolkata Knight Riders         field   \n",
       "29                 Gujarat Lions                Gujarat Lions         field   \n",
       "..                           ...                          ...           ...   \n",
       "606             Delhi Daredevils             Delhi Daredevils         field   \n",
       "607              Kings XI Punjab              Kings XI Punjab         field   \n",
       "608      Rising Pune Supergiants      Rising Pune Supergiants         field   \n",
       "609          Sunrisers Hyderabad          Sunrisers Hyderabad         field   \n",
       "610  Royal Challengers Bangalore  Royal Challengers Bangalore         field   \n",
       "611             Delhi Daredevils             Delhi Daredevils         field   \n",
       "612               Mumbai Indians               Mumbai Indians         field   \n",
       "613                Gujarat Lions                Gujarat Lions         field   \n",
       "614              Kings XI Punjab              Kings XI Punjab         field   \n",
       "615      Rising Pune Supergiants          Sunrisers Hyderabad           bat   \n",
       "616               Mumbai Indians               Mumbai Indians         field   \n",
       "617             Delhi Daredevils             Delhi Daredevils         field   \n",
       "618              Kings XI Punjab               Mumbai Indians           bat   \n",
       "619                Gujarat Lions                Gujarat Lions         field   \n",
       "620        Kolkata Knight Riders      Rising Pune Supergiants           bat   \n",
       "621          Sunrisers Hyderabad              Kings XI Punjab           bat   \n",
       "622             Delhi Daredevils             Delhi Daredevils         field   \n",
       "623  Royal Challengers Bangalore  Royal Challengers Bangalore         field   \n",
       "624      Rising Pune Supergiants      Rising Pune Supergiants         field   \n",
       "625              Kings XI Punjab              Kings XI Punjab         field   \n",
       "626                Gujarat Lions                Gujarat Lions         field   \n",
       "627             Delhi Daredevils             Delhi Daredevils         field   \n",
       "628      Rising Pune Supergiants              Kings XI Punjab           bat   \n",
       "629                Gujarat Lions                Gujarat Lions         field   \n",
       "630          Sunrisers Hyderabad          Sunrisers Hyderabad         field   \n",
       "631  Royal Challengers Bangalore  Royal Challengers Bangalore         field   \n",
       "632  Royal Challengers Bangalore  Royal Challengers Bangalore         field   \n",
       "633        Kolkata Knight Riders        Kolkata Knight Riders         field   \n",
       "634          Sunrisers Hyderabad          Sunrisers Hyderabad         field   \n",
       "635  Royal Challengers Bangalore          Sunrisers Hyderabad           bat   \n",
       "\n",
       "     result  dl_applied                       winner  win_by_runs  \\\n",
       "0    normal           0          Sunrisers Hyderabad           35   \n",
       "1    normal           0       Rising Pune Supergiant            0   \n",
       "2    normal           0        Kolkata Knight Riders            0   \n",
       "3    normal           0              Kings XI Punjab            0   \n",
       "4    normal           0  Royal Challengers Bangalore           15   \n",
       "5    normal           0          Sunrisers Hyderabad            0   \n",
       "6    normal           0               Mumbai Indians            0   \n",
       "7    normal           0              Kings XI Punjab            0   \n",
       "8    normal           0             Delhi Daredevils           97   \n",
       "9    normal           0               Mumbai Indians            0   \n",
       "10   normal           0        Kolkata Knight Riders            0   \n",
       "11   normal           0               Mumbai Indians            0   \n",
       "12   normal           0                Gujarat Lions            0   \n",
       "13   normal           0        Kolkata Knight Riders           17   \n",
       "14   normal           0             Delhi Daredevils           51   \n",
       "15   normal           0               Mumbai Indians            0   \n",
       "16   normal           0       Rising Pune Supergiant           27   \n",
       "17   normal           0        Kolkata Knight Riders            0   \n",
       "18   normal           0          Sunrisers Hyderabad            5   \n",
       "19   normal           0  Royal Challengers Bangalore           21   \n",
       "20   normal           0          Sunrisers Hyderabad           15   \n",
       "21   normal           0               Mumbai Indians            0   \n",
       "22   normal           0                Gujarat Lions            0   \n",
       "23   normal           0               Mumbai Indians           14   \n",
       "24   normal           0       Rising Pune Supergiant            0   \n",
       "25   normal           0              Kings XI Punjab           26   \n",
       "26   normal           0        Kolkata Knight Riders           82   \n",
       "27   normal           0       Rising Pune Supergiant            3   \n",
       "28   normal           0        Kolkata Knight Riders            0   \n",
       "29   normal           0                Gujarat Lions            0   \n",
       "..      ...         ...                          ...          ...   \n",
       "606  normal           0             Delhi Daredevils            0   \n",
       "607  normal           0        Kolkata Knight Riders            7   \n",
       "608  normal           0      Rising Pune Supergiants            0   \n",
       "609  normal           0          Sunrisers Hyderabad            0   \n",
       "610  normal           0  Royal Challengers Bangalore            0   \n",
       "611  normal           0              Kings XI Punjab            9   \n",
       "612  normal           0          Sunrisers Hyderabad           85   \n",
       "613  normal           0                Gujarat Lions            0   \n",
       "614  normal           0  Royal Challengers Bangalore            1   \n",
       "615  normal           0          Sunrisers Hyderabad            4   \n",
       "616  normal           0               Mumbai Indians            0   \n",
       "617  normal           0             Delhi Daredevils            0   \n",
       "618  normal           0              Kings XI Punjab            0   \n",
       "619  normal           0  Royal Challengers Bangalore          144   \n",
       "620  normal           1        Kolkata Knight Riders            0   \n",
       "621  normal           0          Sunrisers Hyderabad            0   \n",
       "622  normal           0               Mumbai Indians           80   \n",
       "623  normal           0  Royal Challengers Bangalore            0   \n",
       "624  normal           1      Rising Pune Supergiants           19   \n",
       "625  normal           1  Royal Challengers Bangalore           82   \n",
       "626  normal           0                Gujarat Lions            0   \n",
       "627  normal           0             Delhi Daredevils            0   \n",
       "628  normal           0      Rising Pune Supergiants            0   \n",
       "629  normal           0                Gujarat Lions            0   \n",
       "630  normal           0        Kolkata Knight Riders           22   \n",
       "631  normal           0  Royal Challengers Bangalore            0   \n",
       "632  normal           0  Royal Challengers Bangalore            0   \n",
       "633  normal           0          Sunrisers Hyderabad           22   \n",
       "634  normal           0          Sunrisers Hyderabad            0   \n",
       "635  normal           0          Sunrisers Hyderabad            8   \n",
       "\n",
       "     win_by_wickets  player_of_match  \\\n",
       "0                 0     Yuvraj Singh   \n",
       "1                 7        SPD Smith   \n",
       "2                10          CA Lynn   \n",
       "3                 6       GJ Maxwell   \n",
       "4                 0        KM Jadhav   \n",
       "5                 9      Rashid Khan   \n",
       "6                 4           N Rana   \n",
       "7                 8         AR Patel   \n",
       "8                 0        SV Samson   \n",
       "9                 4        JJ Bumrah   \n",
       "10                8        SP Narine   \n",
       "11                4       KA Pollard   \n",
       "12                7           AJ Tye   \n",
       "13                0       RV Uthappa   \n",
       "14                0      CJ Anderson   \n",
       "15                6           N Rana   \n",
       "16                0        BA Stokes   \n",
       "17                4  NM Coulter-Nile   \n",
       "18                0          B Kumar   \n",
       "19                0         CH Gayle   \n",
       "20                0    KS Williamson   \n",
       "21                8       JC Buttler   \n",
       "22                4         SK Raina   \n",
       "23                0   MJ McClenaghan   \n",
       "24                6         MS Dhoni   \n",
       "25                0          HM Amla   \n",
       "26                0  NM Coulter-Nile   \n",
       "27                0        BA Stokes   \n",
       "28                7       RV Uthappa   \n",
       "29                7           AJ Tye   \n",
       "..              ...              ...   \n",
       "606               8          RR Pant   \n",
       "607               0       AD Russell   \n",
       "608               7        AM Rahane   \n",
       "609               5          B Kumar   \n",
       "610               7          V Kohli   \n",
       "611               0       MP Stoinis   \n",
       "612               0          A Nehra   \n",
       "613               5          P Kumar   \n",
       "614               0        SR Watson   \n",
       "615               0          A Zampa   \n",
       "616               6        KH Pandya   \n",
       "617               7        CH Morris   \n",
       "618               7       MP Stoinis   \n",
       "619               0   AB de Villiers   \n",
       "620               8        YK Pathan   \n",
       "621               7          HM Amla   \n",
       "622               0        KH Pandya   \n",
       "623               9          V Kohli   \n",
       "624               0         AB Dinda   \n",
       "625               0          V Kohli   \n",
       "626               6         DR Smith   \n",
       "627               6          KK Nair   \n",
       "628               4         MS Dhoni   \n",
       "629               6         SK Raina   \n",
       "630               0        YK Pathan   \n",
       "631               6          V Kohli   \n",
       "632               4   AB de Villiers   \n",
       "633               0     MC Henriques   \n",
       "634               4        DA Warner   \n",
       "635               0      BCJ Cutting   \n",
       "\n",
       "                                                 venue                umpire1  \\\n",
       "0            Rajiv Gandhi International Stadium, Uppal            AY Dandekar   \n",
       "1              Maharashtra Cricket Association Stadium         A Nand Kishore   \n",
       "2               Saurashtra Cricket Association Stadium            Nitin Menon   \n",
       "3                               Holkar Cricket Stadium           AK Chaudhary   \n",
       "4                                M Chinnaswamy Stadium                    NaN   \n",
       "5            Rajiv Gandhi International Stadium, Uppal             A Deshmukh   \n",
       "6                                     Wankhede Stadium            Nitin Menon   \n",
       "7                               Holkar Cricket Stadium           AK Chaudhary   \n",
       "8              Maharashtra Cricket Association Stadium            AY Dandekar   \n",
       "9                                     Wankhede Stadium            Nitin Menon   \n",
       "10                                        Eden Gardens             A Deshmukh   \n",
       "11                               M Chinnaswamy Stadium  KN Ananthapadmanabhan   \n",
       "12              Saurashtra Cricket Association Stadium         A Nand Kishore   \n",
       "13                                        Eden Gardens            AY Dandekar   \n",
       "14                                    Feroz Shah Kotla               YC Barde   \n",
       "15                                    Wankhede Stadium         A Nand Kishore   \n",
       "16                               M Chinnaswamy Stadium  KN Ananthapadmanabhan   \n",
       "17                                    Feroz Shah Kotla            Nitin Menon   \n",
       "18           Rajiv Gandhi International Stadium, Uppal            AY Dandekar   \n",
       "19              Saurashtra Cricket Association Stadium                 S Ravi   \n",
       "20           Rajiv Gandhi International Stadium, Uppal            CB Gaffaney   \n",
       "21                              Holkar Cricket Stadium              M Erasmus   \n",
       "22                                        Eden Gardens            CB Gaffaney   \n",
       "23                                    Wankhede Stadium         A Nand Kishore   \n",
       "24             Maharashtra Cricket Association Stadium            AY Dandekar   \n",
       "25              Saurashtra Cricket Association Stadium           AK Chaudhary   \n",
       "26                                        Eden Gardens            CB Gaffaney   \n",
       "27                                    Wankhede Stadium         A Nand Kishore   \n",
       "28             Maharashtra Cricket Association Stadium            AY Dandekar   \n",
       "29                               M Chinnaswamy Stadium           AK Chaudhary   \n",
       "..                                                 ...                    ...   \n",
       "606             Saurashtra Cricket Association Stadium            CB Gaffaney   \n",
       "607                                       Eden Gardens           AK Chaudhary   \n",
       "608                                   Feroz Shah Kotla          C Shamshuddin   \n",
       "609          Rajiv Gandhi International Stadium, Uppal              M Erasmus   \n",
       "610                              M Chinnaswamy Stadium            CB Gaffaney   \n",
       "611  Punjab Cricket Association IS Bindra Stadium, ...        HDPK Dharmasena   \n",
       "612  Dr. Y.S. Rajasekhara Reddy ACA-VDCA Cricket St...                 S Ravi   \n",
       "613                                       Eden Gardens              M Erasmus   \n",
       "614  Punjab Cricket Association IS Bindra Stadium, ...           AK Chaudhary   \n",
       "615  Dr. Y.S. Rajasekhara Reddy ACA-VDCA Cricket St...            CB Gaffaney   \n",
       "616                              M Chinnaswamy Stadium            AY Dandekar   \n",
       "617          Rajiv Gandhi International Stadium, Uppal             K Bharatan   \n",
       "618  Dr. Y.S. Rajasekhara Reddy ACA-VDCA Cricket St...        HDPK Dharmasena   \n",
       "619                              M Chinnaswamy Stadium            AY Dandekar   \n",
       "620                                       Eden Gardens         A Nand Kishore   \n",
       "621  Punjab Cricket Association IS Bindra Stadium, ...  KN Ananthapadmanabhan   \n",
       "622  Dr. Y.S. Rajasekhara Reddy ACA-VDCA Cricket St...            Nitin Menon   \n",
       "623                                       Eden Gardens            CB Gaffaney   \n",
       "624  Dr. Y.S. Rajasekhara Reddy ACA-VDCA Cricket St...            Nitin Menon   \n",
       "625                              M Chinnaswamy Stadium  KN Ananthapadmanabhan   \n",
       "626                                         Green Park           AK Chaudhary   \n",
       "627   Shaheed Veer Narayan Singh International Stadium         A Nand Kishore   \n",
       "628  Dr. Y.S. Rajasekhara Reddy ACA-VDCA Cricket St...        HDPK Dharmasena   \n",
       "629                                         Green Park           AK Chaudhary   \n",
       "630                                       Eden Gardens  KN Ananthapadmanabhan   \n",
       "631   Shaheed Veer Narayan Singh International Stadium         A Nand Kishore   \n",
       "632                              M Chinnaswamy Stadium           AK Chaudhary   \n",
       "633                                   Feroz Shah Kotla              M Erasmus   \n",
       "634                                   Feroz Shah Kotla              M Erasmus   \n",
       "635                              M Chinnaswamy Stadium        HDPK Dharmasena   \n",
       "\n",
       "             umpire2  umpire3  \n",
       "0           NJ Llong      NaN  \n",
       "1             S Ravi      NaN  \n",
       "2          CK Nandan      NaN  \n",
       "3      C Shamshuddin      NaN  \n",
       "4                NaN      NaN  \n",
       "5           NJ Llong      NaN  \n",
       "6          CK Nandan      NaN  \n",
       "7      C Shamshuddin      NaN  \n",
       "8             S Ravi      NaN  \n",
       "9          CK Nandan      NaN  \n",
       "10          NJ Llong      NaN  \n",
       "11      AK Chaudhary      NaN  \n",
       "12            S Ravi      NaN  \n",
       "13          NJ Llong      NaN  \n",
       "14       Nitin Menon      NaN  \n",
       "15            S Ravi      NaN  \n",
       "16     C Shamshuddin      NaN  \n",
       "17         CK Nandan      NaN  \n",
       "18        A Deshmukh      NaN  \n",
       "19         VK Sharma      NaN  \n",
       "20          NJ Llong      NaN  \n",
       "21     C Shamshuddin      NaN  \n",
       "22       Nitin Menon      NaN  \n",
       "23            S Ravi      NaN  \n",
       "24        A Deshmukh      NaN  \n",
       "25         M Erasmus      NaN  \n",
       "26         CK Nandan      NaN  \n",
       "27            S Ravi      NaN  \n",
       "28          NJ Llong      NaN  \n",
       "29     C Shamshuddin      NaN  \n",
       "..               ...      ...  \n",
       "606     BNJ Oxenford      NaN  \n",
       "607  HDPK Dharmasena      NaN  \n",
       "608        RJ Tucker      NaN  \n",
       "609           S Ravi      NaN  \n",
       "610     BNJ Oxenford      NaN  \n",
       "611        CK Nandan      NaN  \n",
       "612    C Shamshuddin      NaN  \n",
       "613        RJ Tucker      NaN  \n",
       "614  HDPK Dharmasena      NaN  \n",
       "615        VK Sharma      NaN  \n",
       "616    C Shamshuddin      NaN  \n",
       "617        M Erasmus      NaN  \n",
       "618        CK Nandan      NaN  \n",
       "619        VK Sharma      NaN  \n",
       "620     BNJ Oxenford      NaN  \n",
       "621        M Erasmus      NaN  \n",
       "622        CK Nandan      NaN  \n",
       "623   A Nand Kishore      NaN  \n",
       "624    C Shamshuddin      NaN  \n",
       "625        M Erasmus      NaN  \n",
       "626        CK Nandan      NaN  \n",
       "627     BNJ Oxenford      NaN  \n",
       "628      Nitin Menon      NaN  \n",
       "629        CK Nandan      NaN  \n",
       "630        M Erasmus      NaN  \n",
       "631     BNJ Oxenford      NaN  \n",
       "632  HDPK Dharmasena      NaN  \n",
       "633    C Shamshuddin      NaN  \n",
       "634        CK Nandan      NaN  \n",
       "635     BNJ Oxenford      NaN  \n",
       "\n",
       "[636 rows x 18 columns]>"
      ]
     },
     "execution_count": 7,
     "metadata": {},
     "output_type": "execute_result"
    }
   ],
   "source": [
    "matches = pd.read_csv('IPL/matches.csv')\n",
    "matches.head"
   ]
  },
  {
   "cell_type": "code",
   "execution_count": 14,
   "metadata": {},
   "outputs": [
    {
     "ename": "SyntaxError",
     "evalue": "invalid syntax (<ipython-input-14-a6cbb6cee049>, line 3)",
     "output_type": "error",
     "traceback": [
      "\u001b[1;36m  File \u001b[1;32m\"<ipython-input-14-a6cbb6cee049>\"\u001b[1;36m, line \u001b[1;32m3\u001b[0m\n\u001b[1;33m    - Matches win per team\u001b[0m\n\u001b[1;37m                ^\u001b[0m\n\u001b[1;31mSyntaxError\u001b[0m\u001b[1;31m:\u001b[0m invalid syntax\n"
     ]
    }
   ],
   "source": [
    "# insights\n",
    "\n",
    "- Matches win per team\n",
    "- %age of wins while batting first\n",
    "- %age of matches which applied d/l method\n",
    "- Matches wining per team per season `[2013 , 2014]`\n",
    "- MoM vs Player graph, across all season, decending order.\n",
    "- MoM vs Player graph, `[2010, 2011]`"
   ]
  },
  {
   "cell_type": "code",
   "execution_count": 20,
   "metadata": {},
   "outputs": [
    {
     "data": {
      "text/html": [
       "<div>\n",
       "<style scoped>\n",
       "    .dataframe tbody tr th:only-of-type {\n",
       "        vertical-align: middle;\n",
       "    }\n",
       "\n",
       "    .dataframe tbody tr th {\n",
       "        vertical-align: top;\n",
       "    }\n",
       "\n",
       "    .dataframe thead th {\n",
       "        text-align: right;\n",
       "    }\n",
       "</style>\n",
       "<table border=\"1\" class=\"dataframe\">\n",
       "  <thead>\n",
       "    <tr style=\"text-align: right;\">\n",
       "      <th></th>\n",
       "      <th>id</th>\n",
       "      <th>season</th>\n",
       "      <th>city</th>\n",
       "      <th>date</th>\n",
       "      <th>team1</th>\n",
       "      <th>team2</th>\n",
       "      <th>toss_winner</th>\n",
       "      <th>toss_decision</th>\n",
       "      <th>result</th>\n",
       "      <th>dl_applied</th>\n",
       "      <th>winner</th>\n",
       "      <th>win_by_runs</th>\n",
       "      <th>win_by_wickets</th>\n",
       "      <th>player_of_match</th>\n",
       "      <th>venue</th>\n",
       "      <th>umpire1</th>\n",
       "      <th>umpire2</th>\n",
       "      <th>umpire3</th>\n",
       "    </tr>\n",
       "  </thead>\n",
       "  <tbody>\n",
       "    <tr>\n",
       "      <th>381</th>\n",
       "      <td>382</td>\n",
       "      <td>2013</td>\n",
       "      <td>Kolkata</td>\n",
       "      <td>2013-04-03</td>\n",
       "      <td>Delhi Daredevils</td>\n",
       "      <td>Kolkata Knight Riders</td>\n",
       "      <td>Kolkata Knight Riders</td>\n",
       "      <td>field</td>\n",
       "      <td>normal</td>\n",
       "      <td>0</td>\n",
       "      <td>Kolkata Knight Riders</td>\n",
       "      <td>0</td>\n",
       "      <td>6</td>\n",
       "      <td>SP Narine</td>\n",
       "      <td>Eden Gardens</td>\n",
       "      <td>S Ravi</td>\n",
       "      <td>SJA Taufel</td>\n",
       "      <td>NaN</td>\n",
       "    </tr>\n",
       "    <tr>\n",
       "      <th>382</th>\n",
       "      <td>383</td>\n",
       "      <td>2013</td>\n",
       "      <td>Bangalore</td>\n",
       "      <td>2013-04-04</td>\n",
       "      <td>Royal Challengers Bangalore</td>\n",
       "      <td>Mumbai Indians</td>\n",
       "      <td>Mumbai Indians</td>\n",
       "      <td>field</td>\n",
       "      <td>normal</td>\n",
       "      <td>0</td>\n",
       "      <td>Royal Challengers Bangalore</td>\n",
       "      <td>2</td>\n",
       "      <td>0</td>\n",
       "      <td>CH Gayle</td>\n",
       "      <td>M Chinnaswamy Stadium</td>\n",
       "      <td>VA Kulkarni</td>\n",
       "      <td>C Shamshuddin</td>\n",
       "      <td>NaN</td>\n",
       "    </tr>\n",
       "    <tr>\n",
       "      <th>383</th>\n",
       "      <td>384</td>\n",
       "      <td>2013</td>\n",
       "      <td>Hyderabad</td>\n",
       "      <td>2013-04-05</td>\n",
       "      <td>Sunrisers Hyderabad</td>\n",
       "      <td>Pune Warriors</td>\n",
       "      <td>Pune Warriors</td>\n",
       "      <td>field</td>\n",
       "      <td>normal</td>\n",
       "      <td>0</td>\n",
       "      <td>Sunrisers Hyderabad</td>\n",
       "      <td>22</td>\n",
       "      <td>0</td>\n",
       "      <td>A Mishra</td>\n",
       "      <td>Rajiv Gandhi International Stadium, Uppal</td>\n",
       "      <td>S Ravi</td>\n",
       "      <td>SJA Taufel</td>\n",
       "      <td>NaN</td>\n",
       "    </tr>\n",
       "    <tr>\n",
       "      <th>384</th>\n",
       "      <td>385</td>\n",
       "      <td>2013</td>\n",
       "      <td>Delhi</td>\n",
       "      <td>2013-04-06</td>\n",
       "      <td>Rajasthan Royals</td>\n",
       "      <td>Delhi Daredevils</td>\n",
       "      <td>Rajasthan Royals</td>\n",
       "      <td>bat</td>\n",
       "      <td>normal</td>\n",
       "      <td>0</td>\n",
       "      <td>Rajasthan Royals</td>\n",
       "      <td>5</td>\n",
       "      <td>0</td>\n",
       "      <td>R Dravid</td>\n",
       "      <td>Feroz Shah Kotla</td>\n",
       "      <td>S Das</td>\n",
       "      <td>C Shamshuddin</td>\n",
       "      <td>NaN</td>\n",
       "    </tr>\n",
       "    <tr>\n",
       "      <th>385</th>\n",
       "      <td>386</td>\n",
       "      <td>2013</td>\n",
       "      <td>Chennai</td>\n",
       "      <td>2013-04-06</td>\n",
       "      <td>Mumbai Indians</td>\n",
       "      <td>Chennai Super Kings</td>\n",
       "      <td>Mumbai Indians</td>\n",
       "      <td>bat</td>\n",
       "      <td>normal</td>\n",
       "      <td>0</td>\n",
       "      <td>Mumbai Indians</td>\n",
       "      <td>9</td>\n",
       "      <td>0</td>\n",
       "      <td>KA Pollard</td>\n",
       "      <td>MA Chidambaram Stadium, Chepauk</td>\n",
       "      <td>M Erasmus</td>\n",
       "      <td>VA Kulkarni</td>\n",
       "      <td>NaN</td>\n",
       "    </tr>\n",
       "  </tbody>\n",
       "</table>\n",
       "</div>"
      ],
      "text/plain": [
       "      id  season       city        date                        team1  \\\n",
       "381  382    2013    Kolkata  2013-04-03             Delhi Daredevils   \n",
       "382  383    2013  Bangalore  2013-04-04  Royal Challengers Bangalore   \n",
       "383  384    2013  Hyderabad  2013-04-05          Sunrisers Hyderabad   \n",
       "384  385    2013      Delhi  2013-04-06             Rajasthan Royals   \n",
       "385  386    2013    Chennai  2013-04-06               Mumbai Indians   \n",
       "\n",
       "                     team2            toss_winner toss_decision  result  \\\n",
       "381  Kolkata Knight Riders  Kolkata Knight Riders         field  normal   \n",
       "382         Mumbai Indians         Mumbai Indians         field  normal   \n",
       "383          Pune Warriors          Pune Warriors         field  normal   \n",
       "384       Delhi Daredevils       Rajasthan Royals           bat  normal   \n",
       "385    Chennai Super Kings         Mumbai Indians           bat  normal   \n",
       "\n",
       "     dl_applied                       winner  win_by_runs  win_by_wickets  \\\n",
       "381           0        Kolkata Knight Riders            0               6   \n",
       "382           0  Royal Challengers Bangalore            2               0   \n",
       "383           0          Sunrisers Hyderabad           22               0   \n",
       "384           0             Rajasthan Royals            5               0   \n",
       "385           0               Mumbai Indians            9               0   \n",
       "\n",
       "    player_of_match                                      venue      umpire1  \\\n",
       "381       SP Narine                               Eden Gardens       S Ravi   \n",
       "382        CH Gayle                      M Chinnaswamy Stadium  VA Kulkarni   \n",
       "383        A Mishra  Rajiv Gandhi International Stadium, Uppal       S Ravi   \n",
       "384        R Dravid                           Feroz Shah Kotla        S Das   \n",
       "385      KA Pollard            MA Chidambaram Stadium, Chepauk    M Erasmus   \n",
       "\n",
       "           umpire2  umpire3  \n",
       "381     SJA Taufel      NaN  \n",
       "382  C Shamshuddin      NaN  \n",
       "383     SJA Taufel      NaN  \n",
       "384  C Shamshuddin      NaN  \n",
       "385    VA Kulkarni      NaN  "
      ]
     },
     "execution_count": 20,
     "metadata": {},
     "output_type": "execute_result"
    }
   ],
   "source": [
    "matches_2013 = matches[matches.season == 2013]\n",
    "matches_2013.head()"
   ]
  },
  {
   "cell_type": "code",
   "execution_count": 16,
   "metadata": {},
   "outputs": [
    {
     "data": {
      "text/plain": [
       "array([2017, 2008, 2009, 2010, 2011, 2012, 2013, 2014, 2015, 2016],\n",
       "      dtype=int64)"
      ]
     },
     "execution_count": 16,
     "metadata": {},
     "output_type": "execute_result"
    }
   ],
   "source": [
    "matches.season.unique()"
   ]
  },
  {
   "cell_type": "markdown",
   "metadata": {},
   "source": [
    "# Matches win per team"
   ]
  },
  {
   "cell_type": "code",
   "execution_count": 32,
   "metadata": {},
   "outputs": [
    {
     "data": {
      "text/plain": [
       "<matplotlib.axes._subplots.AxesSubplot at 0x1708c682b70>"
      ]
     },
     "execution_count": 32,
     "metadata": {},
     "output_type": "execute_result"
    },
    {
     "data": {
      "image/png": "[encoded data removed]",
      "text/plain": [
       "<Figure size 432x288 with 1 Axes>"
      ]
     },
     "metadata": {
      "needs_background": "light"
     },
     "output_type": "display_data"
    }
   ],
   "source": [
    "win_per_team= matches.groupby('winner')['winner'].count()\n",
    "winners_desc = win_per_team.sort_values(ascending=False)\n",
    "winners_desc.plot(kind='bar')"
   ]
  },
  {
   "cell_type": "markdown",
   "metadata": {},
   "source": [
    "# %age of wins while batting first"
   ]
  },
  {
   "cell_type": "code",
   "execution_count": 45,
   "metadata": {},
   "outputs": [
    {
     "data": {
      "text/plain": [
       "<matplotlib.axes._subplots.AxesSubplot at 0x1708c93e198>"
      ]
     },
     "execution_count": 45,
     "metadata": {},
     "output_type": "execute_result"
    },
    {
     "data": {
      "image/png": "[encoded data removed]",
      "text/plain": [
       "<Figure size 432x288 with 1 Axes>"
      ]
     },
     "metadata": {
      "needs_background": "light"
     },
     "output_type": "display_data"
    }
   ],
   "source": [
    "win_firstbat= matches[matches.team1==matches.winner]\n",
    "win_firstbat_count=win_first_bat.groupby('winner')['winner'].count()\n",
    "win = matches.groupby('winner')['winner'].count()\n",
    "Percentage_win_firstbat = win_firstbat_count/win*100\n",
    "Percentage_win = Percentage_win_firstbat.sort_values(ascending=False)\n",
    "Percentage_win.plot(kind='bar')"
   ]
  },
  {
   "cell_type": "markdown",
   "metadata": {},
   "source": [
    "# %age of matches which applied d/l method"
   ]
  },
  {
   "cell_type": "code",
   "execution_count": 11,
   "metadata": {},
   "outputs": [
    {
     "data": {
      "text/plain": [
       "2.515723270440252"
      ]
     },
     "execution_count": 11,
     "metadata": {},
     "output_type": "execute_result"
    }
   ],
   "source": [
    "matches_dl =matches[matches.dl_applied == 1].shape[0]\n",
    "total = matches.shape[0]\n",
    "per_dl=matches_dl/total*100\n",
    "per_dl"
   ]
  },
  {
   "cell_type": "markdown",
   "metadata": {},
   "source": [
    "# Matches wining per team per season `[2013 , 2014]`"
   ]
  },
  {
   "cell_type": "code",
   "execution_count": 28,
   "metadata": {},
   "outputs": [
    {
     "data": {
      "text/plain": [
       "<matplotlib.axes._subplots.AxesSubplot at 0x1fbf907d710>"
      ]
     },
     "execution_count": 28,
     "metadata": {},
     "output_type": "execute_result"
    },
    {
     "data": {
      "image/png": "[encoded data removed]",
      "text/plain": [
       "<Figure size 432x288 with 1 Axes>"
      ]
     },
     "metadata": {
      "needs_background": "light"
     },
     "output_type": "display_data"
    }
   ],
   "source": [
    "matches_total = matches[(matches.season== 2013)|(matches.season==2014)]\n",
    "win = matches_total.groupby('winner')['winner'].count()\n",
    "win.plot(kind='bar')"
   ]
  },
  {
   "cell_type": "markdown",
   "metadata": {},
   "source": [
    "# MoM vs Player graph, across all season, decending order."
   ]
  },
  {
   "cell_type": "code",
   "execution_count": 33,
   "metadata": {},
   "outputs": [
    {
     "data": {
      "text/plain": [
       "<matplotlib.axes._subplots.AxesSubplot at 0x1fbf921a3c8>"
      ]
     },
     "execution_count": 33,
     "metadata": {},
     "output_type": "execute_result"
    },
    {
     "data": {
      "image/png": "[encoded data removed]",
      "text/plain": [
       "<Figure size 432x288 with 1 Axes>"
      ]
     },
     "metadata": {
      "needs_background": "light"
     },
     "output_type": "display_data"
    }
   ],
   "source": [
    "mom = matches.groupby('player_of_match')['player_of_match'].count()\n",
    "mom_final = mom.sort_values(ascending=False)\n",
    "mom_final[1:10].plot(kind='bar')"
   ]
  },
  {
   "cell_type": "markdown",
   "metadata": {},
   "source": [
    "Insights\n",
    "Batsmen vs Runs ( Sort in Descending Order )\n",
    "Bowler vs Wickets ( Sort in Descending Order )\n",
    "Bowler vs Extra Runs ( Sort in Descending Order )\n",
    "Most number of no balls vs bowler ( Descending Order )\n",
    "4's vs Batsmen\n",
    "6's vs Batsmen"
   ]
  },
  {
   "cell_type": "markdown",
   "metadata": {},
   "source": [
    "# Insights Batsmen vs Runs ( Sort in Descending Order )"
   ]
  },
  {
   "cell_type": "code",
   "execution_count": 40,
   "metadata": {},
   "outputs": [
    {
     "data": {
      "text/plain": [
       "<matplotlib.axes._subplots.AxesSubplot at 0x1fb80a2b3c8>"
      ]
     },
     "execution_count": 40,
     "metadata": {},
     "output_type": "execute_result"
    },
    {
     "data": {
      "image/png": "[encoded data removed]",
      "text/plain": [
       "<Figure size 432x288 with 1 Axes>"
      ]
     },
     "metadata": {
      "needs_background": "light"
     },
     "output_type": "display_data"
    }
   ],
   "source": [
    "deliveries = pd.read_csv('IPL/deliveries.csv')\n",
    "batsmen_win = deliveries.groupby('batsman')['total_runs'].count()\n",
    "batsmen_win.sort_values(ascending=False)\n",
    "batsmen_win.sort_values(ascending=False)[0:11].plot(kind='bar')"
   ]
  },
  {
   "cell_type": "markdown",
   "metadata": {},
   "source": [
    "# Bowler vs Wickets ( Sort in Descending Order ) "
   ]
  },
  {
   "cell_type": "code",
   "execution_count": 41,
   "metadata": {},
   "outputs": [
    {
     "data": {
      "text/plain": [
       "<matplotlib.axes._subplots.AxesSubplot at 0x1fb80a72080>"
      ]
     },
     "execution_count": 41,
     "metadata": {},
     "output_type": "execute_result"
    },
    {
     "data": {
      "image/png": "[encoded data removed]",
      "text/plain": [
       "<Figure size 432x288 with 1 Axes>"
      ]
     },
     "metadata": {
      "needs_background": "light"
     },
     "output_type": "display_data"
    }
   ],
   "source": [
    "bowler_wic = deliveries.groupby('bowler')['player_dismissed'].count()\n",
    "bowler_wic.sort_values(ascending=False)\n",
    "bowler_wic.sort_values(ascending=False)[0:11].plot(kind='bar')"
   ]
  },
  {
   "cell_type": "markdown",
   "metadata": {},
   "source": [
    "# Bowler vs Extra Runs ( Sort in Descending Order ) "
   ]
  },
  {
   "cell_type": "code",
   "execution_count": 69,
   "metadata": {},
   "outputs": [
    {
     "data": {
      "text/plain": [
       "bowler\n",
       "A Ashish Reddy        12\n",
       "A Chandila             2\n",
       "A Choudhary            7\n",
       "A Flintoff             1\n",
       "A Kumble              41\n",
       "A Mishra              95\n",
       "A Mithun              29\n",
       "A Nehra               96\n",
       "A Singh               24\n",
       "A Symonds             29\n",
       "A Uniyal               3\n",
       "A Zampa                7\n",
       "AA Chavan             17\n",
       "AA Jhunjhunwala        4\n",
       "AA Kazi                1\n",
       "AA Noffke              2\n",
       "AB Agarkar            57\n",
       "AB Dinda              94\n",
       "AB McDonald            4\n",
       "AC Thomas             19\n",
       "AC Voges               2\n",
       "AD Mascarenhas         8\n",
       "AD Mathews            29\n",
       "AD Russell            35\n",
       "AF Milne              12\n",
       "AG Murtaza            10\n",
       "AJ Finch               1\n",
       "AJ Tye                 7\n",
       "AL Menaria             3\n",
       "AM Nayar              11\n",
       "                    ... \n",
       "T Natarajan            7\n",
       "T Shamsi               4\n",
       "T Thushara            12\n",
       "TA Boult              28\n",
       "TG Southee            46\n",
       "TL Suman               3\n",
       "TM Dilshan             6\n",
       "TP Sudhindra           5\n",
       "TS Mills               8\n",
       "UT Yadav             150\n",
       "Umar Gul              26\n",
       "V Kohli               16\n",
       "V Pratap Singh        11\n",
       "V Sehwag               3\n",
       "VR Aaron              82\n",
       "VRV Singh             18\n",
       "VS Malik              11\n",
       "VS Yeligati            4\n",
       "VY Mahesh             27\n",
       "WA Mota                4\n",
       "WD Parnell            44\n",
       "WPUJC Vaas            12\n",
       "Washington Sundar      6\n",
       "Y Nagar                6\n",
       "Y Venugopal Rao        7\n",
       "YA Abdulla            17\n",
       "YK Pathan             63\n",
       "YS Chahal             45\n",
       "Yuvraj Singh          23\n",
       "Z Khan               132\n",
       "Name: extra_runs, Length: 315, dtype: int64"
      ]
     },
     "execution_count": 69,
     "metadata": {},
     "output_type": "execute_result"
    }
   ],
   "source": [
    "bowler_extra = deliveries[deliveries.extra_runs!=0]\n",
    "extra = bowler_extra.groupby('bowler')['extra_runs'].count()\n",
    "extra.sort_values(ascending=False).plot(kind='bar')"
   ]
  },
  {
   "cell_type": "markdown",
   "metadata": {},
   "source": [
    "# Most number of no balls vs bowler ( Descending Order )"
   ]
  },
  {
   "cell_type": "code",
   "execution_count": 64,
   "metadata": {},
   "outputs": [
    {
     "data": {
      "text/plain": [
       "<matplotlib.axes._subplots.AxesSubplot at 0x1fb80d35320>"
      ]
     },
     "execution_count": 64,
     "metadata": {},
     "output_type": "execute_result"
    },
    {
     "data": {
      "image/png": "[encoded data removed]",
      "text/plain": [
       "<Figure size 432x288 with 1 Axes>"
      ]
     },
     "metadata": {
      "needs_background": "light"
     },
     "output_type": "display_data"
    }
   ],
   "source": [
    "bowler_no = deliveries[deliveries.noball_runs ==1]\n",
    "no_run = bowler_no.groupby('bowler')['bowler'].count()\n",
    "no_run.sort_values(ascending=False)[0:11].plot(kind='bar')"
   ]
  },
  {
   "cell_type": "markdown",
   "metadata": {},
   "source": [
    "# 4's vs Batsmen"
   ]
  },
  {
   "cell_type": "code",
   "execution_count": 56,
   "metadata": {},
   "outputs": [
    {
     "data": {
      "text/plain": [
       "<matplotlib.axes._subplots.AxesSubplot at 0x1fb81573da0>"
      ]
     },
     "execution_count": 56,
     "metadata": {},
     "output_type": "execute_result"
    },
    {
     "data": {
      "image/png": "[encoded data removed]",
      "text/plain": [
       "<Figure size 432x288 with 1 Axes>"
      ]
     },
     "metadata": {
      "needs_background": "light"
     },
     "output_type": "display_data"
    }
   ],
   "source": [
    "fours = deliveries[deliveries.batsman_runs==4]\n",
    "countfours = fours.groupby('batsman')['batsman'].count()\n",
    "countfours.sort_values(ascending=False)[0:11].plot(kind='bar')"
   ]
  },
  {
   "cell_type": "code",
   "execution_count": null,
   "metadata": {},
   "outputs": [],
   "source": []
  }
 ],
 "metadata": {
  "kernelspec": {
   "display_name": "Python 3",
   "language": "python",
   "name": "python3"
  },
  "language_info": {
   "codemirror_mode": {
    "name": "ipython",
    "version": 3
   },
   "file_extension": ".py",
   "mimetype": "text/x-python",
   "name": "python",
   "nbconvert_exporter": "python",
   "pygments_lexer": "ipython3",
   "version": "3.7.3"
  }
 },
 "nbformat": 4,
 "nbformat_minor": 2
}
