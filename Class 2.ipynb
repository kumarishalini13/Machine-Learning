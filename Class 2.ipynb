{
 "cells": [
  {
   "cell_type": "markdown",
   "metadata": {},
   "source": [
    "# odd even"
   ]
  },
  {
   "cell_type": "code",
   "execution_count": 1,
   "metadata": {},
   "outputs": [
    {
     "name": "stdout",
     "output_type": "stream",
     "text": [
      "Odd\n"
     ]
    }
   ],
   "source": [
    "number = 15\n",
    "\n",
    "remainder = number % 2\n",
    "if remainder == 0:\n",
    "    print(\"Even\")\n",
    "else:\n",
    "    print(\"Odd\")"
   ]
  },
  {
   "cell_type": "markdown",
   "metadata": {},
   "source": [
    "# Grading Program\n",
    "```\n",
    "< 35 - fail\n",
    ">= 36 - 75 - pass\n",
    ">= 76 - 100 - distinction\n",
    "```"
   ]
  },
  {
   "cell_type": "markdown",
   "metadata": {},
   "source": [
    "### generic syntax\n",
    "\n",
    "```\n",
    "if condition:\n",
    "    print(\"\")\n",
    "elif condition:\n",
    "    print(\"\")\n",
    "elif condition:\n",
    "    print(\"\")\n",
    "else:\n",
    "    print()\n",
    "```"
   ]
  },
  {
   "cell_type": "code",
   "execution_count": 2,
   "metadata": {},
   "outputs": [
    {
     "name": "stdout",
     "output_type": "stream",
     "text": [
      "Invalid Input\n"
     ]
    }
   ],
   "source": [
    "marks = 120\n",
    "\n",
    "if marks < 0 or marks > 100:\n",
    "    print(\"Invalid Input\")\n",
    "elif marks <= 35:\n",
    "    print(\"Fail\")\n",
    "elif marks <=75:\n",
    "    print(\"Pass\")\n",
    "else:\n",
    "    print(\"Distinction\")"
   ]
  },
  {
   "cell_type": "markdown",
   "metadata": {},
   "source": [
    "# Loops"
   ]
  },
  {
   "cell_type": "markdown",
   "metadata": {},
   "source": [
    "```\n",
    "for - \n",
    "[1,25,25,78,47] - List\n",
    "(15,15,78,98,58) - Tuple\n",
    "{15,16,17,18 } - Set\n",
    "```\n",
    "while\n",
    "- print multiplication table\n",
    "- print number from 1 - 100"
   ]
  },
  {
   "cell_type": "markdown",
   "metadata": {},
   "source": [
    "# print multiplication table of 85 upto 15 times"
   ]
  },
  {
   "cell_type": "markdown",
   "metadata": {},
   "source": [
    "```\n",
    "print(85 * 1)\n",
    "print(85 * 2)\n",
    "print(85 * 3)\n",
    "print(85 * 4)\n",
    "...\n",
    "print(85 * 15)\n",
    "```"
   ]
  },
  {
   "cell_type": "code",
   "execution_count": 3,
   "metadata": {},
   "outputs": [
    {
     "name": "stdout",
     "output_type": "stream",
     "text": [
      "85\n",
      "170\n",
      "255\n",
      "340\n",
      "425\n",
      "510\n",
      "595\n",
      "680\n",
      "765\n",
      "850\n",
      "935\n",
      "1020\n",
      "1105\n",
      "1190\n",
      "1275\n",
      "Mult is over\n"
     ]
    }
   ],
   "source": [
    "count = 1\n",
    "while count <= 15:\n",
    "    print(85*count)\n",
    "    count += 1\n",
    "\n",
    "print(\"Mult is over\")"
   ]
  },
  {
   "cell_type": "markdown",
   "metadata": {},
   "source": [
    "# Fibonacci Series\n",
    "```\n",
    "0\n",
    "1\n",
    "1\n",
    "2\n",
    "3\n",
    "5\n",
    "8\n",
    "13\n",
    "21\n",
    "34\n",
    "55\n",
    "89\n",
    "```"
   ]
  },
  {
   "cell_type": "code",
   "execution_count": 4,
   "metadata": {},
   "outputs": [
    {
     "name": "stdout",
     "output_type": "stream",
     "text": [
      "0\n",
      "1\n",
      "1\n",
      "2\n",
      "3\n"
     ]
    }
   ],
   "source": [
    "number_a = 0\n",
    "number_b = 1\n",
    "\n",
    "print(number_a)  # 0\n",
    "print(number_b) # 1\n",
    "\n",
    "number_c = number_a + number_b # 1\n",
    "print(number_c)\n",
    "\n",
    "number_a = number_b\n",
    "number_b = number_c\n",
    "\n",
    "number_c = number_a + number_b\n",
    "print(number_c)\n",
    "\n",
    "number_a = number_b\n",
    "number_b = number_c\n",
    "\n",
    "number_c = number_a + number_b\n",
    "print(number_c)\n",
    "\n",
    "number_a = number_b\n",
    "number_b = number_c"
   ]
  },
  {
   "cell_type": "code",
   "execution_count": 5,
   "metadata": {},
   "outputs": [
    {
     "name": "stdout",
     "output_type": "stream",
     "text": [
      "0\n",
      "1\n",
      "1\n",
      "2\n",
      "3\n",
      "5\n",
      "8\n",
      "13\n",
      "21\n",
      "34\n",
      "55\n",
      "89\n"
     ]
    }
   ],
   "source": [
    "number_a = 0\n",
    "number_b = 1\n",
    "\n",
    "print(number_a) \n",
    "print(number_b)\n",
    "\n",
    "while number_a + number_b < 100:\n",
    "    number_c = number_a + number_b\n",
    "    print(number_c)\n",
    "\n",
    "    number_a = number_b\n",
    "    number_b = number_c\n",
    "\n"
   ]
  },
  {
   "cell_type": "markdown",
   "metadata": {},
   "source": [
    "# break, continue and else in loops\n",
    "# zip, zip longest and range"
   ]
  },
  {
   "cell_type": "code",
   "execution_count": 6,
   "metadata": {},
   "outputs": [
    {
     "data": {
      "text/plain": [
       "False"
      ]
     },
     "execution_count": 6,
     "metadata": {},
     "output_type": "execute_result"
    }
   ],
   "source": [
    "88 in [1,5,6]"
   ]
  },
  {
   "cell_type": "code",
   "execution_count": 7,
   "metadata": {
    "scrolled": true
   },
   "outputs": [
    {
     "name": "stdout",
     "output_type": "stream",
     "text": [
      "Transfer Bonus to Employee -->  1\n",
      "Transfer Bonus to Employee -->  2\n",
      "Transfer Bonus to Employee -->  3\n",
      "Transfer Bonus to Employee -->  4\n",
      "Transfer Bonus to Employee -->  6\n",
      "Transfer Bonus to Employee -->  9\n",
      "Transfer Bonus to Employee -->  10\n"
     ]
    }
   ],
   "source": [
    "employees = [1,2,3,4,5,6,7,8,9,10]\n",
    "excluded_emp = [5,7,8]\n",
    "\n",
    "for current_emp in employees:\n",
    "    if current_emp in excluded_emp:\n",
    "        continue\n",
    "        \n",
    "    print(\"Transfer Bonus to Employee --> \", current_emp)"
   ]
  },
  {
   "cell_type": "markdown",
   "metadata": {},
   "source": [
    "# keep taking input from user untill he enters end"
   ]
  },
  {
   "cell_type": "code",
   "execution_count": 8,
   "metadata": {},
   "outputs": [
    {
     "name": "stdout",
     "output_type": "stream",
     "text": [
      "Please enter something 12\n",
      "12\n",
      "Please enter something 12\n",
      "12\n",
      "Please enter something 45\n",
      "45\n",
      "Please enter something 47\n",
      "47\n",
      "Please enter something 59\n",
      "59\n",
      "Please enter something end\n",
      "end\n",
      "outside while loop\n"
     ]
    }
   ],
   "source": [
    "while True:\n",
    "    data = input(\"Please enter something \")\n",
    "    print(data)\n",
    "    \n",
    "    if data == 'end':\n",
    "        break\n",
    "\n",
    "print(\"outside while loop\")"
   ]
  },
  {
   "cell_type": "code",
   "execution_count": 9,
   "metadata": {},
   "outputs": [
    {
     "name": "stdout",
     "output_type": "stream",
     "text": [
      "Transfer Bonus to Employee -->  1\n",
      "Transfer Bonus to Employee -->  2\n",
      "Transfer Bonus to Employee -->  3\n",
      "Transfer Bonus to Employee -->  4\n",
      "Transfer Bonus to Employee -->  5\n",
      "Transfer Bonus to Employee -->  6\n",
      "Transfer Bonus to Employee -->  7\n",
      "Transfer Bonus to Employee -->  8\n"
     ]
    }
   ],
   "source": [
    "employees = [1,2,3,4,5,6,7,8,-9,10,0]\n",
    "# employees = [1,2,3,4,5,6,7,8,9,10]\n",
    "\n",
    "\n",
    "for current_emp in employees:\n",
    "    if current_emp <= 0:\n",
    "        break \n",
    "    print(\"Transfer Bonus to Employee --> \", current_emp)\n",
    "else:\n",
    "    print(\"Success Execution, No Faulty Data Found\")"
   ]
  },
  {
   "cell_type": "markdown",
   "metadata": {},
   "source": [
    "# range"
   ]
  },
  {
   "cell_type": "code",
   "execution_count": 10,
   "metadata": {},
   "outputs": [
    {
     "name": "stdout",
     "output_type": "stream",
     "text": [
      "85\n",
      "170\n",
      "255\n",
      "340\n",
      "425\n",
      "510\n",
      "595\n",
      "680\n",
      "765\n",
      "850\n",
      "935\n",
      "1020\n",
      "1105\n",
      "1190\n",
      "1275\n",
      "Mult is over\n"
     ]
    }
   ],
   "source": [
    "count = 1\n",
    "while count <= 15:\n",
    "    print(85*count)\n",
    "    count += 1\n",
    "\n",
    "print(\"Mult is over\")"
   ]
  },
  {
   "cell_type": "code",
   "execution_count": 11,
   "metadata": {
    "scrolled": true
   },
   "outputs": [
    {
     "name": "stdout",
     "output_type": "stream",
     "text": [
      "2\n",
      "4\n",
      "6\n",
      "8\n",
      "10\n"
     ]
    }
   ],
   "source": [
    "# range - list start to end-1 with step size\n",
    "for each in range(2,11,2):\n",
    "    print(each)"
   ]
  },
  {
   "cell_type": "code",
   "execution_count": 12,
   "metadata": {},
   "outputs": [
    {
     "name": "stdout",
     "output_type": "stream",
     "text": [
      "[10, 12, 14, 16, 18, 20, 22, 24, 26, 28, 30, 32, 34, 36, 38, 40, 42, 44, 46, 48]\n"
     ]
    }
   ],
   "source": [
    "some_list = list(range(10,50,2))\n",
    "print(some_list)"
   ]
  },
  {
   "cell_type": "markdown",
   "metadata": {},
   "source": [
    "# zip and zip longest"
   ]
  },
  {
   "cell_type": "code",
   "execution_count": 13,
   "metadata": {},
   "outputs": [
    {
     "name": "stdout",
     "output_type": "stream",
     "text": [
      "Qualified\n",
      "Qualified\n"
     ]
    }
   ],
   "source": [
    "science_marks = [54,95,64,64]\n",
    "maths_marks = [58,78,98,57]\n",
    "\n",
    "for marks_1, marks_2 in zip(science_marks, maths_marks):\n",
    "    total = marks_1 + marks_2\n",
    "    \n",
    "    if total > 150:\n",
    "        print(\"Qualified\")"
   ]
  },
  {
   "cell_type": "code",
   "execution_count": 14,
   "metadata": {},
   "outputs": [
    {
     "name": "stdout",
     "output_type": "stream",
     "text": [
      "54 58\n",
      "95 78\n",
      "64 98\n",
      "64 57\n"
     ]
    }
   ],
   "source": [
    "science_marks = [54,95,64,64,78]\n",
    "maths_marks = [58,78,98,57]\n",
    "\n",
    "for marks_1, marks_2 in zip(science_marks, maths_marks):\n",
    "    print(marks_1, marks_2)"
   ]
  },
  {
   "cell_type": "code",
   "execution_count": 15,
   "metadata": {},
   "outputs": [],
   "source": [
    "from itertools import zip_longest"
   ]
  },
  {
   "cell_type": "code",
   "execution_count": 16,
   "metadata": {},
   "outputs": [
    {
     "name": "stdout",
     "output_type": "stream",
     "text": [
      "54 58\n",
      "95 78\n",
      "64 98\n",
      "64 57\n"
     ]
    }
   ],
   "source": [
    "science_marks = [54,95,64,64,78,58,78,98]\n",
    "maths_marks = [58,78,98,57]\n",
    "\n",
    "# for marks_1, marks_2 in zip(range(0,10), range(10,25)):\n",
    "for marks_1, marks_2 in zip(science_marks, maths_marks):\n",
    "    print(marks_1, marks_2)"
   ]
  },
  {
   "cell_type": "code",
   "execution_count": 17,
   "metadata": {},
   "outputs": [
    {
     "name": "stdout",
     "output_type": "stream",
     "text": [
      "54 58\n",
      "95 78\n",
      "64 98\n",
      "64 57\n",
      "78 None\n",
      "58 None\n",
      "78 None\n",
      "98 None\n"
     ]
    }
   ],
   "source": [
    "science_marks = [54,95,64,64,78,58,78,98]\n",
    "maths_marks = [58,78,98,57]\n",
    "\n",
    "# for marks_1, marks_2 in zip_longest(range(0,10), range(10,25)):\n",
    "for marks_1, marks_2 in zip_longest(science_marks, maths_marks):\n",
    "    print(marks_1, marks_2)"
   ]
  },
  {
   "cell_type": "markdown",
   "metadata": {},
   "source": [
    "# Assignment"
   ]
  },
  {
   "cell_type": "markdown",
   "metadata": {},
   "source": [
    "### 1. Take input from user and print multiplication table of the input number using for loop and range.\n",
    "\n",
    "### 2. Using range function print number from 100 to 1\n",
    "\n",
    "### 3. Code to print\n",
    "``` \n",
    "    * * * * * \n",
    "    * * * * *\n",
    "    * * * * *\n",
    "    * * * * *\n",
    "```\n",
    "\n",
    "### 4. Code to print\n",
    "```\n",
    "    *\n",
    "    * *\n",
    "    * * *\n",
    "    * * * *\n",
    "    * * * * *\n",
    "```\n",
    "### 5. Test for Prime.\n",
    "    - Take input from user, and output True if its prime, False otherwise.\n",
    "    \n",
    "\n",
    "### 6. All Prime\n",
    "    - Print all prime number between 10 - 500"
   ]
  },
  {
   "cell_type": "code",
   "execution_count": 18,
   "metadata": {},
   "outputs": [
    {
     "name": "stdout",
     "output_type": "stream",
     "text": [
      "x x x x x \n"
     ]
    }
   ],
   "source": [
    "print('x ' * 5)"
   ]
  },
  {
   "cell_type": "code",
   "execution_count": null,
   "metadata": {},
   "outputs": [],
   "source": []
  }
 ],
 "metadata": {
  "kernelspec": {
   "display_name": "Python 3",
   "language": "python",
   "name": "python3"
  },
  "language_info": {
   "codemirror_mode": {
    "name": "ipython",
    "version": 3
   },
   "file_extension": ".py",
   "mimetype": "text/x-python",
   "name": "python",
   "nbconvert_exporter": "python",
   "pygments_lexer": "ipython3",
   "version": "3.7.3"
  }
 },
 "nbformat": 4,
 "nbformat_minor": 2
}
